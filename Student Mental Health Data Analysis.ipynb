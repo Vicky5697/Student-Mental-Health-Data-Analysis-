{
 "cells": [
  {
   "cell_type": "markdown",
   "id": "fe322f14",
   "metadata": {},
   "source": [
    "### Student Mental Health"
   ]
  },
  {
   "cell_type": "raw",
   "id": "520785a2",
   "metadata": {},
   "source": [
    "This Data set was collected by a survey conducted by Google forms from University student in order to examine their current academic situation and mental health.\n",
    "Basic EDA and Visualization is performed using python on this data to know how students go through their academics."
   ]
  },
  {
   "cell_type": "markdown",
   "id": "14f96ee0",
   "metadata": {},
   "source": [
    "### Importing Modules"
   ]
  },
  {
   "cell_type": "code",
   "execution_count": 1,
   "id": "4e0698a6",
   "metadata": {},
   "outputs": [],
   "source": [
    "import numpy as np\n",
    "import pandas as pd\n",
    "import matplotlib.pyplot as plt\n",
    "import seaborn as sns\n",
    "%matplotlib inline"
   ]
  },
  {
   "cell_type": "markdown",
   "id": "10faeeb6",
   "metadata": {},
   "source": [
    "### Reading the data"
   ]
  },
  {
   "cell_type": "code",
   "execution_count": 2,
   "id": "b1b225fb",
   "metadata": {},
   "outputs": [],
   "source": [
    "data = pd.read_csv('Student Mental health.csv')"
   ]
  },
  {
   "cell_type": "code",
   "execution_count": 3,
   "id": "078a31b9",
   "metadata": {},
   "outputs": [
    {
     "data": {
      "text/html": [
       "<div>\n",
       "<style scoped>\n",
       "    .dataframe tbody tr th:only-of-type {\n",
       "        vertical-align: middle;\n",
       "    }\n",
       "\n",
       "    .dataframe tbody tr th {\n",
       "        vertical-align: top;\n",
       "    }\n",
       "\n",
       "    .dataframe thead th {\n",
       "        text-align: right;\n",
       "    }\n",
       "</style>\n",
       "<table border=\"1\" class=\"dataframe\">\n",
       "  <thead>\n",
       "    <tr style=\"text-align: right;\">\n",
       "      <th></th>\n",
       "      <th>Timestamp</th>\n",
       "      <th>Choose your gender</th>\n",
       "      <th>Age</th>\n",
       "      <th>What is your course?</th>\n",
       "      <th>Your current year of Study</th>\n",
       "      <th>What is your CGPA?</th>\n",
       "      <th>Marital status</th>\n",
       "      <th>Do you have Depression?</th>\n",
       "      <th>Do you have Anxiety?</th>\n",
       "      <th>Do you have Panic attack?</th>\n",
       "      <th>Did you seek any specialist for a treatment?</th>\n",
       "    </tr>\n",
       "  </thead>\n",
       "  <tbody>\n",
       "    <tr>\n",
       "      <th>0</th>\n",
       "      <td>8/7/2020 12:02</td>\n",
       "      <td>Female</td>\n",
       "      <td>18.0</td>\n",
       "      <td>Engineering</td>\n",
       "      <td>year 1</td>\n",
       "      <td>3.00 - 3.49</td>\n",
       "      <td>No</td>\n",
       "      <td>Yes</td>\n",
       "      <td>No</td>\n",
       "      <td>Yes</td>\n",
       "      <td>No</td>\n",
       "    </tr>\n",
       "    <tr>\n",
       "      <th>1</th>\n",
       "      <td>8/7/2020 12:04</td>\n",
       "      <td>Male</td>\n",
       "      <td>21.0</td>\n",
       "      <td>Islamic education</td>\n",
       "      <td>year 2</td>\n",
       "      <td>3.00 - 3.49</td>\n",
       "      <td>No</td>\n",
       "      <td>No</td>\n",
       "      <td>Yes</td>\n",
       "      <td>No</td>\n",
       "      <td>No</td>\n",
       "    </tr>\n",
       "    <tr>\n",
       "      <th>2</th>\n",
       "      <td>8/7/2020 12:05</td>\n",
       "      <td>Male</td>\n",
       "      <td>19.0</td>\n",
       "      <td>BIT</td>\n",
       "      <td>Year 1</td>\n",
       "      <td>3.00 - 3.49</td>\n",
       "      <td>No</td>\n",
       "      <td>Yes</td>\n",
       "      <td>Yes</td>\n",
       "      <td>Yes</td>\n",
       "      <td>No</td>\n",
       "    </tr>\n",
       "    <tr>\n",
       "      <th>3</th>\n",
       "      <td>8/7/2020 12:06</td>\n",
       "      <td>Female</td>\n",
       "      <td>22.0</td>\n",
       "      <td>Laws</td>\n",
       "      <td>year 3</td>\n",
       "      <td>3.00 - 3.49</td>\n",
       "      <td>Yes</td>\n",
       "      <td>Yes</td>\n",
       "      <td>No</td>\n",
       "      <td>No</td>\n",
       "      <td>No</td>\n",
       "    </tr>\n",
       "    <tr>\n",
       "      <th>4</th>\n",
       "      <td>8/7/2020 12:13</td>\n",
       "      <td>Male</td>\n",
       "      <td>23.0</td>\n",
       "      <td>Mathemathics</td>\n",
       "      <td>year 4</td>\n",
       "      <td>3.00 - 3.49</td>\n",
       "      <td>No</td>\n",
       "      <td>No</td>\n",
       "      <td>No</td>\n",
       "      <td>No</td>\n",
       "      <td>No</td>\n",
       "    </tr>\n",
       "  </tbody>\n",
       "</table>\n",
       "</div>"
      ],
      "text/plain": [
       "        Timestamp Choose your gender   Age What is your course?  \\\n",
       "0  8/7/2020 12:02             Female  18.0          Engineering   \n",
       "1  8/7/2020 12:04               Male  21.0    Islamic education   \n",
       "2  8/7/2020 12:05               Male  19.0                  BIT   \n",
       "3  8/7/2020 12:06             Female  22.0                 Laws   \n",
       "4  8/7/2020 12:13               Male  23.0         Mathemathics   \n",
       "\n",
       "  Your current year of Study What is your CGPA? Marital status  \\\n",
       "0                     year 1        3.00 - 3.49             No   \n",
       "1                     year 2        3.00 - 3.49             No   \n",
       "2                     Year 1        3.00 - 3.49             No   \n",
       "3                     year 3        3.00 - 3.49            Yes   \n",
       "4                     year 4        3.00 - 3.49             No   \n",
       "\n",
       "  Do you have Depression? Do you have Anxiety? Do you have Panic attack?  \\\n",
       "0                     Yes                   No                       Yes   \n",
       "1                      No                  Yes                        No   \n",
       "2                     Yes                  Yes                       Yes   \n",
       "3                     Yes                   No                        No   \n",
       "4                      No                   No                        No   \n",
       "\n",
       "  Did you seek any specialist for a treatment?  \n",
       "0                                           No  \n",
       "1                                           No  \n",
       "2                                           No  \n",
       "3                                           No  \n",
       "4                                           No  "
      ]
     },
     "execution_count": 3,
     "metadata": {},
     "output_type": "execute_result"
    }
   ],
   "source": [
    "data.head()"
   ]
  },
  {
   "cell_type": "markdown",
   "id": "1deeca68",
   "metadata": {},
   "source": [
    "### Getting data information"
   ]
  },
  {
   "cell_type": "code",
   "execution_count": 4,
   "id": "b579ae52",
   "metadata": {},
   "outputs": [
    {
     "name": "stdout",
     "output_type": "stream",
     "text": [
      "<class 'pandas.core.frame.DataFrame'>\n",
      "RangeIndex: 101 entries, 0 to 100\n",
      "Data columns (total 11 columns):\n",
      " #   Column                                        Non-Null Count  Dtype  \n",
      "---  ------                                        --------------  -----  \n",
      " 0   Timestamp                                     101 non-null    object \n",
      " 1   Choose your gender                            101 non-null    object \n",
      " 2   Age                                           100 non-null    float64\n",
      " 3   What is your course?                          101 non-null    object \n",
      " 4   Your current year of Study                    101 non-null    object \n",
      " 5   What is your CGPA?                            101 non-null    object \n",
      " 6   Marital status                                101 non-null    object \n",
      " 7   Do you have Depression?                       101 non-null    object \n",
      " 8   Do you have Anxiety?                          101 non-null    object \n",
      " 9   Do you have Panic attack?                     101 non-null    object \n",
      " 10  Did you seek any specialist for a treatment?  101 non-null    object \n",
      "dtypes: float64(1), object(10)\n",
      "memory usage: 8.8+ KB\n"
     ]
    }
   ],
   "source": [
    "data.info()"
   ]
  },
  {
   "cell_type": "code",
   "execution_count": 5,
   "id": "ed7324af",
   "metadata": {},
   "outputs": [
    {
     "data": {
      "text/html": [
       "<div>\n",
       "<style scoped>\n",
       "    .dataframe tbody tr th:only-of-type {\n",
       "        vertical-align: middle;\n",
       "    }\n",
       "\n",
       "    .dataframe tbody tr th {\n",
       "        vertical-align: top;\n",
       "    }\n",
       "\n",
       "    .dataframe thead th {\n",
       "        text-align: right;\n",
       "    }\n",
       "</style>\n",
       "<table border=\"1\" class=\"dataframe\">\n",
       "  <thead>\n",
       "    <tr style=\"text-align: right;\">\n",
       "      <th></th>\n",
       "      <th>Age</th>\n",
       "    </tr>\n",
       "  </thead>\n",
       "  <tbody>\n",
       "    <tr>\n",
       "      <th>count</th>\n",
       "      <td>100.00000</td>\n",
       "    </tr>\n",
       "    <tr>\n",
       "      <th>mean</th>\n",
       "      <td>20.53000</td>\n",
       "    </tr>\n",
       "    <tr>\n",
       "      <th>std</th>\n",
       "      <td>2.49628</td>\n",
       "    </tr>\n",
       "    <tr>\n",
       "      <th>min</th>\n",
       "      <td>18.00000</td>\n",
       "    </tr>\n",
       "    <tr>\n",
       "      <th>25%</th>\n",
       "      <td>18.00000</td>\n",
       "    </tr>\n",
       "    <tr>\n",
       "      <th>50%</th>\n",
       "      <td>19.00000</td>\n",
       "    </tr>\n",
       "    <tr>\n",
       "      <th>75%</th>\n",
       "      <td>23.00000</td>\n",
       "    </tr>\n",
       "    <tr>\n",
       "      <th>max</th>\n",
       "      <td>24.00000</td>\n",
       "    </tr>\n",
       "  </tbody>\n",
       "</table>\n",
       "</div>"
      ],
      "text/plain": [
       "             Age\n",
       "count  100.00000\n",
       "mean    20.53000\n",
       "std      2.49628\n",
       "min     18.00000\n",
       "25%     18.00000\n",
       "50%     19.00000\n",
       "75%     23.00000\n",
       "max     24.00000"
      ]
     },
     "execution_count": 5,
     "metadata": {},
     "output_type": "execute_result"
    }
   ],
   "source": [
    "data.describe()"
   ]
  },
  {
   "cell_type": "code",
   "execution_count": 6,
   "id": "eaf364da",
   "metadata": {},
   "outputs": [
    {
     "data": {
      "text/plain": [
       "(101, 11)"
      ]
     },
     "execution_count": 6,
     "metadata": {},
     "output_type": "execute_result"
    }
   ],
   "source": [
    "data.shape"
   ]
  },
  {
   "cell_type": "code",
   "execution_count": 7,
   "id": "52f14b44",
   "metadata": {},
   "outputs": [
    {
     "data": {
      "text/plain": [
       "Index(['Timestamp', 'Choose your gender', 'Age', 'What is your course?',\n",
       "       'Your current year of Study', 'What is your CGPA?', 'Marital status',\n",
       "       'Do you have Depression?', 'Do you have Anxiety?',\n",
       "       'Do you have Panic attack?',\n",
       "       'Did you seek any specialist for a treatment?'],\n",
       "      dtype='object')"
      ]
     },
     "execution_count": 7,
     "metadata": {},
     "output_type": "execute_result"
    }
   ],
   "source": [
    "data.columns"
   ]
  },
  {
   "cell_type": "markdown",
   "id": "a87e535e",
   "metadata": {},
   "source": [
    "### Checking data for null values"
   ]
  },
  {
   "cell_type": "code",
   "execution_count": 8,
   "id": "4f56b434",
   "metadata": {},
   "outputs": [
    {
     "data": {
      "text/plain": [
       "Timestamp                                       0\n",
       "Choose your gender                              0\n",
       "Age                                             1\n",
       "What is your course?                            0\n",
       "Your current year of Study                      0\n",
       "What is your CGPA?                              0\n",
       "Marital status                                  0\n",
       "Do you have Depression?                         0\n",
       "Do you have Anxiety?                            0\n",
       "Do you have Panic attack?                       0\n",
       "Did you seek any specialist for a treatment?    0\n",
       "dtype: int64"
      ]
     },
     "execution_count": 8,
     "metadata": {},
     "output_type": "execute_result"
    }
   ],
   "source": [
    "data.isnull().sum()"
   ]
  },
  {
   "cell_type": "code",
   "execution_count": 9,
   "id": "947558f4",
   "metadata": {},
   "outputs": [
    {
     "data": {
      "text/plain": [
       "<AxesSubplot:>"
      ]
     },
     "execution_count": 9,
     "metadata": {},
     "output_type": "execute_result"
    },
    {
     "data": {
      "image/png": "[encoded data removed]",
      "text/plain": [
       "<Figure size 432x288 with 2 Axes>"
      ]
     },
     "metadata": {
      "needs_background": "light"
     },
     "output_type": "display_data"
    }
   ],
   "source": [
    "sns.heatmap(data.isnull())"
   ]
  },
  {
   "cell_type": "markdown",
   "id": "24705be1",
   "metadata": {},
   "source": [
    "### Finding the missing value"
   ]
  },
  {
   "cell_type": "code",
   "execution_count": 10,
   "id": "19228cf6",
   "metadata": {
    "scrolled": true
   },
   "outputs": [
    {
     "data": {
      "text/html": [
       "<div>\n",
       "<style scoped>\n",
       "    .dataframe tbody tr th:only-of-type {\n",
       "        vertical-align: middle;\n",
       "    }\n",
       "\n",
       "    .dataframe tbody tr th {\n",
       "        vertical-align: top;\n",
       "    }\n",
       "\n",
       "    .dataframe thead th {\n",
       "        text-align: right;\n",
       "    }\n",
       "</style>\n",
       "<table border=\"1\" class=\"dataframe\">\n",
       "  <thead>\n",
       "    <tr style=\"text-align: right;\">\n",
       "      <th></th>\n",
       "      <th>Timestamp</th>\n",
       "      <th>Choose your gender</th>\n",
       "      <th>Age</th>\n",
       "      <th>What is your course?</th>\n",
       "      <th>Your current year of Study</th>\n",
       "      <th>What is your CGPA?</th>\n",
       "      <th>Marital status</th>\n",
       "      <th>Do you have Depression?</th>\n",
       "      <th>Do you have Anxiety?</th>\n",
       "      <th>Do you have Panic attack?</th>\n",
       "      <th>Did you seek any specialist for a treatment?</th>\n",
       "    </tr>\n",
       "  </thead>\n",
       "  <tbody>\n",
       "    <tr>\n",
       "      <th>43</th>\n",
       "      <td>8/7/2020 15:07</td>\n",
       "      <td>Male</td>\n",
       "      <td>NaN</td>\n",
       "      <td>BIT</td>\n",
       "      <td>year 1</td>\n",
       "      <td>0 - 1.99</td>\n",
       "      <td>No</td>\n",
       "      <td>No</td>\n",
       "      <td>No</td>\n",
       "      <td>No</td>\n",
       "      <td>No</td>\n",
       "    </tr>\n",
       "  </tbody>\n",
       "</table>\n",
       "</div>"
      ],
      "text/plain": [
       "         Timestamp Choose your gender  Age What is your course?  \\\n",
       "43  8/7/2020 15:07               Male  NaN                  BIT   \n",
       "\n",
       "   Your current year of Study What is your CGPA? Marital status  \\\n",
       "43                     year 1           0 - 1.99             No   \n",
       "\n",
       "   Do you have Depression? Do you have Anxiety? Do you have Panic attack?  \\\n",
       "43                      No                   No                        No   \n",
       "\n",
       "   Did you seek any specialist for a treatment?  \n",
       "43                                           No  "
      ]
     },
     "execution_count": 10,
     "metadata": {},
     "output_type": "execute_result"
    }
   ],
   "source": [
    "data[data.isna().any(axis=1)]"
   ]
  },
  {
   "cell_type": "markdown",
   "id": "a0496e1c",
   "metadata": {},
   "source": [
    "### Filling the missing values"
   ]
  },
  {
   "cell_type": "code",
   "execution_count": 11,
   "id": "503ee99c",
   "metadata": {},
   "outputs": [
    {
     "data": {
      "text/plain": [
       "20.53"
      ]
     },
     "execution_count": 11,
     "metadata": {},
     "output_type": "execute_result"
    }
   ],
   "source": [
    "data['Age'].mean()"
   ]
  },
  {
   "cell_type": "code",
   "execution_count": 12,
   "id": "bdfc0ae4",
   "metadata": {},
   "outputs": [],
   "source": [
    "data['Age'] = data['Age'].fillna(data['Age'].mean())"
   ]
  },
  {
   "cell_type": "code",
   "execution_count": 13,
   "id": "6b75951c",
   "metadata": {},
   "outputs": [
    {
     "data": {
      "text/plain": [
       "Timestamp                                       0\n",
       "Choose your gender                              0\n",
       "Age                                             0\n",
       "What is your course?                            0\n",
       "Your current year of Study                      0\n",
       "What is your CGPA?                              0\n",
       "Marital status                                  0\n",
       "Do you have Depression?                         0\n",
       "Do you have Anxiety?                            0\n",
       "Do you have Panic attack?                       0\n",
       "Did you seek any specialist for a treatment?    0\n",
       "dtype: int64"
      ]
     },
     "execution_count": 13,
     "metadata": {},
     "output_type": "execute_result"
    }
   ],
   "source": [
    "data.isnull().sum()"
   ]
  },
  {
   "cell_type": "code",
   "execution_count": 14,
   "id": "5e844429",
   "metadata": {},
   "outputs": [],
   "source": [
    "data['Age'] = data[\"Age\"].astype(int)"
   ]
  },
  {
   "cell_type": "markdown",
   "id": "ac043663",
   "metadata": {},
   "source": [
    "### Removing the Timestamp column as it of no use"
   ]
  },
  {
   "cell_type": "code",
   "execution_count": 15,
   "id": "a50658fc",
   "metadata": {},
   "outputs": [],
   "source": [
    "data.drop('Timestamp',axis=1, inplace=True)"
   ]
  },
  {
   "cell_type": "code",
   "execution_count": 16,
   "id": "312cb03c",
   "metadata": {},
   "outputs": [
    {
     "data": {
      "text/html": [
       "<div>\n",
       "<style scoped>\n",
       "    .dataframe tbody tr th:only-of-type {\n",
       "        vertical-align: middle;\n",
       "    }\n",
       "\n",
       "    .dataframe tbody tr th {\n",
       "        vertical-align: top;\n",
       "    }\n",
       "\n",
       "    .dataframe thead th {\n",
       "        text-align: right;\n",
       "    }\n",
       "</style>\n",
       "<table border=\"1\" class=\"dataframe\">\n",
       "  <thead>\n",
       "    <tr style=\"text-align: right;\">\n",
       "      <th></th>\n",
       "      <th>Choose your gender</th>\n",
       "      <th>Age</th>\n",
       "      <th>What is your course?</th>\n",
       "      <th>Your current year of Study</th>\n",
       "      <th>What is your CGPA?</th>\n",
       "      <th>Marital status</th>\n",
       "      <th>Do you have Depression?</th>\n",
       "      <th>Do you have Anxiety?</th>\n",
       "      <th>Do you have Panic attack?</th>\n",
       "      <th>Did you seek any specialist for a treatment?</th>\n",
       "    </tr>\n",
       "  </thead>\n",
       "  <tbody>\n",
       "    <tr>\n",
       "      <th>0</th>\n",
       "      <td>Female</td>\n",
       "      <td>18</td>\n",
       "      <td>Engineering</td>\n",
       "      <td>year 1</td>\n",
       "      <td>3.00 - 3.49</td>\n",
       "      <td>No</td>\n",
       "      <td>Yes</td>\n",
       "      <td>No</td>\n",
       "      <td>Yes</td>\n",
       "      <td>No</td>\n",
       "    </tr>\n",
       "    <tr>\n",
       "      <th>1</th>\n",
       "      <td>Male</td>\n",
       "      <td>21</td>\n",
       "      <td>Islamic education</td>\n",
       "      <td>year 2</td>\n",
       "      <td>3.00 - 3.49</td>\n",
       "      <td>No</td>\n",
       "      <td>No</td>\n",
       "      <td>Yes</td>\n",
       "      <td>No</td>\n",
       "      <td>No</td>\n",
       "    </tr>\n",
       "    <tr>\n",
       "      <th>2</th>\n",
       "      <td>Male</td>\n",
       "      <td>19</td>\n",
       "      <td>BIT</td>\n",
       "      <td>Year 1</td>\n",
       "      <td>3.00 - 3.49</td>\n",
       "      <td>No</td>\n",
       "      <td>Yes</td>\n",
       "      <td>Yes</td>\n",
       "      <td>Yes</td>\n",
       "      <td>No</td>\n",
       "    </tr>\n",
       "    <tr>\n",
       "      <th>3</th>\n",
       "      <td>Female</td>\n",
       "      <td>22</td>\n",
       "      <td>Laws</td>\n",
       "      <td>year 3</td>\n",
       "      <td>3.00 - 3.49</td>\n",
       "      <td>Yes</td>\n",
       "      <td>Yes</td>\n",
       "      <td>No</td>\n",
       "      <td>No</td>\n",
       "      <td>No</td>\n",
       "    </tr>\n",
       "    <tr>\n",
       "      <th>4</th>\n",
       "      <td>Male</td>\n",
       "      <td>23</td>\n",
       "      <td>Mathemathics</td>\n",
       "      <td>year 4</td>\n",
       "      <td>3.00 - 3.49</td>\n",
       "      <td>No</td>\n",
       "      <td>No</td>\n",
       "      <td>No</td>\n",
       "      <td>No</td>\n",
       "      <td>No</td>\n",
       "    </tr>\n",
       "  </tbody>\n",
       "</table>\n",
       "</div>"
      ],
      "text/plain": [
       "  Choose your gender  Age What is your course? Your current year of Study  \\\n",
       "0             Female   18          Engineering                     year 1   \n",
       "1               Male   21    Islamic education                     year 2   \n",
       "2               Male   19                  BIT                     Year 1   \n",
       "3             Female   22                 Laws                     year 3   \n",
       "4               Male   23         Mathemathics                     year 4   \n",
       "\n",
       "  What is your CGPA? Marital status Do you have Depression?  \\\n",
       "0        3.00 - 3.49             No                     Yes   \n",
       "1        3.00 - 3.49             No                      No   \n",
       "2        3.00 - 3.49             No                     Yes   \n",
       "3        3.00 - 3.49            Yes                     Yes   \n",
       "4        3.00 - 3.49             No                      No   \n",
       "\n",
       "  Do you have Anxiety? Do you have Panic attack?  \\\n",
       "0                   No                       Yes   \n",
       "1                  Yes                        No   \n",
       "2                  Yes                       Yes   \n",
       "3                   No                        No   \n",
       "4                   No                        No   \n",
       "\n",
       "  Did you seek any specialist for a treatment?  \n",
       "0                                           No  \n",
       "1                                           No  \n",
       "2                                           No  \n",
       "3                                           No  \n",
       "4                                           No  "
      ]
     },
     "execution_count": 16,
     "metadata": {},
     "output_type": "execute_result"
    }
   ],
   "source": [
    "data.head()"
   ]
  },
  {
   "cell_type": "markdown",
   "id": "91b78527",
   "metadata": {},
   "source": [
    "### Renaming th Columns as they are too lengthy to read"
   ]
  },
  {
   "cell_type": "code",
   "execution_count": 17,
   "id": "08322d86",
   "metadata": {},
   "outputs": [],
   "source": [
    "data_columns = {'Choose your gender':'Gender','What is your course?':'Course',\n",
    "             'Your current year of Study':'Year Study','What is your CGPA?':'CGPA',\n",
    "             'Do you have Depression?':'Depression', 'Marital status':'Marital',\n",
    "             'Do you have Anxiety?':'Anxiety', 'Do you have Panic attack?':'Panic Attack',\n",
    "             'Did you seek any specialist for a treatment?':'Treatment'}\n",
    "data.rename(columns=data_columns, inplace=True)"
   ]
  },
  {
   "cell_type": "code",
   "execution_count": 18,
   "id": "576e0ea4",
   "metadata": {},
   "outputs": [
    {
     "data": {
      "text/html": [
       "<div>\n",
       "<style scoped>\n",
       "    .dataframe tbody tr th:only-of-type {\n",
       "        vertical-align: middle;\n",
       "    }\n",
       "\n",
       "    .dataframe tbody tr th {\n",
       "        vertical-align: top;\n",
       "    }\n",
       "\n",
       "    .dataframe thead th {\n",
       "        text-align: right;\n",
       "    }\n",
       "</style>\n",
       "<table border=\"1\" class=\"dataframe\">\n",
       "  <thead>\n",
       "    <tr style=\"text-align: right;\">\n",
       "      <th></th>\n",
       "      <th>Gender</th>\n",
       "      <th>Age</th>\n",
       "      <th>Course</th>\n",
       "      <th>Year Study</th>\n",
       "      <th>CGPA</th>\n",
       "      <th>Marital</th>\n",
       "      <th>Depression</th>\n",
       "      <th>Anxiety</th>\n",
       "      <th>Panic Attack</th>\n",
       "      <th>Treatment</th>\n",
       "    </tr>\n",
       "  </thead>\n",
       "  <tbody>\n",
       "    <tr>\n",
       "      <th>0</th>\n",
       "      <td>Female</td>\n",
       "      <td>18</td>\n",
       "      <td>Engineering</td>\n",
       "      <td>year 1</td>\n",
       "      <td>3.00 - 3.49</td>\n",
       "      <td>No</td>\n",
       "      <td>Yes</td>\n",
       "      <td>No</td>\n",
       "      <td>Yes</td>\n",
       "      <td>No</td>\n",
       "    </tr>\n",
       "    <tr>\n",
       "      <th>1</th>\n",
       "      <td>Male</td>\n",
       "      <td>21</td>\n",
       "      <td>Islamic education</td>\n",
       "      <td>year 2</td>\n",
       "      <td>3.00 - 3.49</td>\n",
       "      <td>No</td>\n",
       "      <td>No</td>\n",
       "      <td>Yes</td>\n",
       "      <td>No</td>\n",
       "      <td>No</td>\n",
       "    </tr>\n",
       "    <tr>\n",
       "      <th>2</th>\n",
       "      <td>Male</td>\n",
       "      <td>19</td>\n",
       "      <td>BIT</td>\n",
       "      <td>Year 1</td>\n",
       "      <td>3.00 - 3.49</td>\n",
       "      <td>No</td>\n",
       "      <td>Yes</td>\n",
       "      <td>Yes</td>\n",
       "      <td>Yes</td>\n",
       "      <td>No</td>\n",
       "    </tr>\n",
       "    <tr>\n",
       "      <th>3</th>\n",
       "      <td>Female</td>\n",
       "      <td>22</td>\n",
       "      <td>Laws</td>\n",
       "      <td>year 3</td>\n",
       "      <td>3.00 - 3.49</td>\n",
       "      <td>Yes</td>\n",
       "      <td>Yes</td>\n",
       "      <td>No</td>\n",
       "      <td>No</td>\n",
       "      <td>No</td>\n",
       "    </tr>\n",
       "    <tr>\n",
       "      <th>4</th>\n",
       "      <td>Male</td>\n",
       "      <td>23</td>\n",
       "      <td>Mathemathics</td>\n",
       "      <td>year 4</td>\n",
       "      <td>3.00 - 3.49</td>\n",
       "      <td>No</td>\n",
       "      <td>No</td>\n",
       "      <td>No</td>\n",
       "      <td>No</td>\n",
       "      <td>No</td>\n",
       "    </tr>\n",
       "  </tbody>\n",
       "</table>\n",
       "</div>"
      ],
      "text/plain": [
       "   Gender  Age             Course Year Study         CGPA Marital Depression  \\\n",
       "0  Female   18        Engineering     year 1  3.00 - 3.49      No        Yes   \n",
       "1    Male   21  Islamic education     year 2  3.00 - 3.49      No         No   \n",
       "2    Male   19                BIT     Year 1  3.00 - 3.49      No        Yes   \n",
       "3  Female   22               Laws     year 3  3.00 - 3.49     Yes        Yes   \n",
       "4    Male   23       Mathemathics     year 4  3.00 - 3.49      No         No   \n",
       "\n",
       "  Anxiety Panic Attack Treatment  \n",
       "0      No          Yes        No  \n",
       "1     Yes           No        No  \n",
       "2     Yes          Yes        No  \n",
       "3      No           No        No  \n",
       "4      No           No        No  "
      ]
     },
     "execution_count": 18,
     "metadata": {},
     "output_type": "execute_result"
    }
   ],
   "source": [
    "data.head()"
   ]
  },
  {
   "cell_type": "markdown",
   "id": "7cb1e835",
   "metadata": {},
   "source": [
    "### Giving order to CGPA Column"
   ]
  },
  {
   "cell_type": "code",
   "execution_count": 19,
   "id": "caa0ee88",
   "metadata": {},
   "outputs": [
    {
     "data": {
      "text/plain": [
       "array(['3.00 - 3.49', '3.50 - 4.00', '3.50 - 4.00 ', '2.50 - 2.99',\n",
       "       '2.00 - 2.49', '0 - 1.99'], dtype=object)"
      ]
     },
     "execution_count": 19,
     "metadata": {},
     "output_type": "execute_result"
    }
   ],
   "source": [
    "data['CGPA'].unique()"
   ]
  },
  {
   "cell_type": "code",
   "execution_count": 20,
   "id": "d77bf02a",
   "metadata": {},
   "outputs": [
    {
     "data": {
      "text/plain": [
       "Index(['3.50 - 4.00', '3.00 - 3.49', '2.50 - 2.99', '0 - 1.99', '2.00 - 2.49',\n",
       "       '3.50 - 4.00 '],\n",
       "      dtype='object')"
      ]
     },
     "execution_count": 20,
     "metadata": {},
     "output_type": "execute_result"
    }
   ],
   "source": [
    "data['CGPA'].value_counts().index"
   ]
  },
  {
   "cell_type": "markdown",
   "id": "de334d41",
   "metadata": {},
   "source": [
    "### Fixing the space in  3.50-4.00 in the CGPA Column"
   ]
  },
  {
   "cell_type": "code",
   "execution_count": 21,
   "id": "7793b240",
   "metadata": {},
   "outputs": [],
   "source": [
    "data['CGPA'] = data['CGPA'].apply(lambda x : x.strip())"
   ]
  },
  {
   "cell_type": "code",
   "execution_count": 22,
   "id": "9f4629ef",
   "metadata": {},
   "outputs": [],
   "source": [
    "grade = {'0 - 1.99':'E', '2.00 - 2.49': 'D', '2.50 - 2.99':'C', '3.00 - 3.49':'B', '3.50 - 4.00': 'A'}"
   ]
  },
  {
   "cell_type": "code",
   "execution_count": 23,
   "id": "2f83aeae",
   "metadata": {},
   "outputs": [],
   "source": [
    "data['CGPA'] = data['CGPA'].apply(lambda x : grade[x])"
   ]
  },
  {
   "cell_type": "code",
   "execution_count": 24,
   "id": "a6e117bf",
   "metadata": {},
   "outputs": [
    {
     "data": {
      "text/html": [
       "<div>\n",
       "<style scoped>\n",
       "    .dataframe tbody tr th:only-of-type {\n",
       "        vertical-align: middle;\n",
       "    }\n",
       "\n",
       "    .dataframe tbody tr th {\n",
       "        vertical-align: top;\n",
       "    }\n",
       "\n",
       "    .dataframe thead th {\n",
       "        text-align: right;\n",
       "    }\n",
       "</style>\n",
       "<table border=\"1\" class=\"dataframe\">\n",
       "  <thead>\n",
       "    <tr style=\"text-align: right;\">\n",
       "      <th></th>\n",
       "      <th>Gender</th>\n",
       "      <th>Age</th>\n",
       "      <th>Course</th>\n",
       "      <th>Year Study</th>\n",
       "      <th>CGPA</th>\n",
       "      <th>Marital</th>\n",
       "      <th>Depression</th>\n",
       "      <th>Anxiety</th>\n",
       "      <th>Panic Attack</th>\n",
       "      <th>Treatment</th>\n",
       "    </tr>\n",
       "  </thead>\n",
       "  <tbody>\n",
       "    <tr>\n",
       "      <th>0</th>\n",
       "      <td>Female</td>\n",
       "      <td>18</td>\n",
       "      <td>Engineering</td>\n",
       "      <td>year 1</td>\n",
       "      <td>B</td>\n",
       "      <td>No</td>\n",
       "      <td>Yes</td>\n",
       "      <td>No</td>\n",
       "      <td>Yes</td>\n",
       "      <td>No</td>\n",
       "    </tr>\n",
       "    <tr>\n",
       "      <th>1</th>\n",
       "      <td>Male</td>\n",
       "      <td>21</td>\n",
       "      <td>Islamic education</td>\n",
       "      <td>year 2</td>\n",
       "      <td>B</td>\n",
       "      <td>No</td>\n",
       "      <td>No</td>\n",
       "      <td>Yes</td>\n",
       "      <td>No</td>\n",
       "      <td>No</td>\n",
       "    </tr>\n",
       "    <tr>\n",
       "      <th>2</th>\n",
       "      <td>Male</td>\n",
       "      <td>19</td>\n",
       "      <td>BIT</td>\n",
       "      <td>Year 1</td>\n",
       "      <td>B</td>\n",
       "      <td>No</td>\n",
       "      <td>Yes</td>\n",
       "      <td>Yes</td>\n",
       "      <td>Yes</td>\n",
       "      <td>No</td>\n",
       "    </tr>\n",
       "    <tr>\n",
       "      <th>3</th>\n",
       "      <td>Female</td>\n",
       "      <td>22</td>\n",
       "      <td>Laws</td>\n",
       "      <td>year 3</td>\n",
       "      <td>B</td>\n",
       "      <td>Yes</td>\n",
       "      <td>Yes</td>\n",
       "      <td>No</td>\n",
       "      <td>No</td>\n",
       "      <td>No</td>\n",
       "    </tr>\n",
       "    <tr>\n",
       "      <th>4</th>\n",
       "      <td>Male</td>\n",
       "      <td>23</td>\n",
       "      <td>Mathemathics</td>\n",
       "      <td>year 4</td>\n",
       "      <td>B</td>\n",
       "      <td>No</td>\n",
       "      <td>No</td>\n",
       "      <td>No</td>\n",
       "      <td>No</td>\n",
       "      <td>No</td>\n",
       "    </tr>\n",
       "  </tbody>\n",
       "</table>\n",
       "</div>"
      ],
      "text/plain": [
       "   Gender  Age             Course Year Study CGPA Marital Depression Anxiety  \\\n",
       "0  Female   18        Engineering     year 1    B      No        Yes      No   \n",
       "1    Male   21  Islamic education     year 2    B      No         No     Yes   \n",
       "2    Male   19                BIT     Year 1    B      No        Yes     Yes   \n",
       "3  Female   22               Laws     year 3    B     Yes        Yes      No   \n",
       "4    Male   23       Mathemathics     year 4    B      No         No      No   \n",
       "\n",
       "  Panic Attack Treatment  \n",
       "0          Yes        No  \n",
       "1           No        No  \n",
       "2          Yes        No  \n",
       "3           No        No  \n",
       "4           No        No  "
      ]
     },
     "execution_count": 24,
     "metadata": {},
     "output_type": "execute_result"
    }
   ],
   "source": [
    "data.head()"
   ]
  },
  {
   "cell_type": "markdown",
   "id": "5887c976",
   "metadata": {},
   "source": [
    "### Replacing the Yes and No with 0 and 1"
   ]
  },
  {
   "cell_type": "code",
   "execution_count": 25,
   "id": "8f07dd9f",
   "metadata": {},
   "outputs": [],
   "source": [
    "data.replace(('Yes','No'),(1,0), inplace=True)"
   ]
  },
  {
   "cell_type": "code",
   "execution_count": 26,
   "id": "fe7cfb38",
   "metadata": {},
   "outputs": [
    {
     "data": {
      "text/html": [
       "<div>\n",
       "<style scoped>\n",
       "    .dataframe tbody tr th:only-of-type {\n",
       "        vertical-align: middle;\n",
       "    }\n",
       "\n",
       "    .dataframe tbody tr th {\n",
       "        vertical-align: top;\n",
       "    }\n",
       "\n",
       "    .dataframe thead th {\n",
       "        text-align: right;\n",
       "    }\n",
       "</style>\n",
       "<table border=\"1\" class=\"dataframe\">\n",
       "  <thead>\n",
       "    <tr style=\"text-align: right;\">\n",
       "      <th></th>\n",
       "      <th>Gender</th>\n",
       "      <th>Age</th>\n",
       "      <th>Course</th>\n",
       "      <th>Year Study</th>\n",
       "      <th>CGPA</th>\n",
       "      <th>Marital</th>\n",
       "      <th>Depression</th>\n",
       "      <th>Anxiety</th>\n",
       "      <th>Panic Attack</th>\n",
       "      <th>Treatment</th>\n",
       "    </tr>\n",
       "  </thead>\n",
       "  <tbody>\n",
       "    <tr>\n",
       "      <th>0</th>\n",
       "      <td>Female</td>\n",
       "      <td>18</td>\n",
       "      <td>Engineering</td>\n",
       "      <td>year 1</td>\n",
       "      <td>B</td>\n",
       "      <td>0</td>\n",
       "      <td>1</td>\n",
       "      <td>0</td>\n",
       "      <td>1</td>\n",
       "      <td>0</td>\n",
       "    </tr>\n",
       "    <tr>\n",
       "      <th>1</th>\n",
       "      <td>Male</td>\n",
       "      <td>21</td>\n",
       "      <td>Islamic education</td>\n",
       "      <td>year 2</td>\n",
       "      <td>B</td>\n",
       "      <td>0</td>\n",
       "      <td>0</td>\n",
       "      <td>1</td>\n",
       "      <td>0</td>\n",
       "      <td>0</td>\n",
       "    </tr>\n",
       "    <tr>\n",
       "      <th>2</th>\n",
       "      <td>Male</td>\n",
       "      <td>19</td>\n",
       "      <td>BIT</td>\n",
       "      <td>Year 1</td>\n",
       "      <td>B</td>\n",
       "      <td>0</td>\n",
       "      <td>1</td>\n",
       "      <td>1</td>\n",
       "      <td>1</td>\n",
       "      <td>0</td>\n",
       "    </tr>\n",
       "    <tr>\n",
       "      <th>3</th>\n",
       "      <td>Female</td>\n",
       "      <td>22</td>\n",
       "      <td>Laws</td>\n",
       "      <td>year 3</td>\n",
       "      <td>B</td>\n",
       "      <td>1</td>\n",
       "      <td>1</td>\n",
       "      <td>0</td>\n",
       "      <td>0</td>\n",
       "      <td>0</td>\n",
       "    </tr>\n",
       "    <tr>\n",
       "      <th>4</th>\n",
       "      <td>Male</td>\n",
       "      <td>23</td>\n",
       "      <td>Mathemathics</td>\n",
       "      <td>year 4</td>\n",
       "      <td>B</td>\n",
       "      <td>0</td>\n",
       "      <td>0</td>\n",
       "      <td>0</td>\n",
       "      <td>0</td>\n",
       "      <td>0</td>\n",
       "    </tr>\n",
       "  </tbody>\n",
       "</table>\n",
       "</div>"
      ],
      "text/plain": [
       "   Gender  Age             Course Year Study CGPA  Marital  Depression  \\\n",
       "0  Female   18        Engineering     year 1    B        0           1   \n",
       "1    Male   21  Islamic education     year 2    B        0           0   \n",
       "2    Male   19                BIT     Year 1    B        0           1   \n",
       "3  Female   22               Laws     year 3    B        1           1   \n",
       "4    Male   23       Mathemathics     year 4    B        0           0   \n",
       "\n",
       "   Anxiety  Panic Attack  Treatment  \n",
       "0        0             1          0  \n",
       "1        1             0          0  \n",
       "2        1             1          0  \n",
       "3        0             0          0  \n",
       "4        0             0          0  "
      ]
     },
     "execution_count": 26,
     "metadata": {},
     "output_type": "execute_result"
    }
   ],
   "source": [
    "data.head()"
   ]
  },
  {
   "cell_type": "markdown",
   "id": "e52c1348",
   "metadata": {},
   "source": [
    "### Checking the Correlation of the variables"
   ]
  },
  {
   "cell_type": "code",
   "execution_count": 27,
   "id": "ffad79f5",
   "metadata": {},
   "outputs": [
    {
     "data": {
      "text/html": [
       "<div>\n",
       "<style scoped>\n",
       "    .dataframe tbody tr th:only-of-type {\n",
       "        vertical-align: middle;\n",
       "    }\n",
       "\n",
       "    .dataframe tbody tr th {\n",
       "        vertical-align: top;\n",
       "    }\n",
       "\n",
       "    .dataframe thead th {\n",
       "        text-align: right;\n",
       "    }\n",
       "</style>\n",
       "<table border=\"1\" class=\"dataframe\">\n",
       "  <thead>\n",
       "    <tr style=\"text-align: right;\">\n",
       "      <th></th>\n",
       "      <th>Age</th>\n",
       "      <th>Marital</th>\n",
       "      <th>Depression</th>\n",
       "      <th>Anxiety</th>\n",
       "      <th>Panic Attack</th>\n",
       "      <th>Treatment</th>\n",
       "    </tr>\n",
       "  </thead>\n",
       "  <tbody>\n",
       "    <tr>\n",
       "      <th>Age</th>\n",
       "      <td>1.000000</td>\n",
       "      <td>0.105350</td>\n",
       "      <td>-0.070418</td>\n",
       "      <td>-0.091890</td>\n",
       "      <td>0.057072</td>\n",
       "      <td>0.048315</td>\n",
       "    </tr>\n",
       "    <tr>\n",
       "      <th>Marital</th>\n",
       "      <td>0.105350</td>\n",
       "      <td>1.000000</td>\n",
       "      <td>0.595784</td>\n",
       "      <td>0.092606</td>\n",
       "      <td>0.275909</td>\n",
       "      <td>0.349819</td>\n",
       "    </tr>\n",
       "    <tr>\n",
       "      <th>Depression</th>\n",
       "      <td>-0.070418</td>\n",
       "      <td>0.595784</td>\n",
       "      <td>1.000000</td>\n",
       "      <td>0.273764</td>\n",
       "      <td>0.246842</td>\n",
       "      <td>0.345105</td>\n",
       "    </tr>\n",
       "    <tr>\n",
       "      <th>Anxiety</th>\n",
       "      <td>-0.091890</td>\n",
       "      <td>0.092606</td>\n",
       "      <td>0.273764</td>\n",
       "      <td>1.000000</td>\n",
       "      <td>0.084478</td>\n",
       "      <td>0.086880</td>\n",
       "    </tr>\n",
       "    <tr>\n",
       "      <th>Panic Attack</th>\n",
       "      <td>0.057072</td>\n",
       "      <td>0.275909</td>\n",
       "      <td>0.246842</td>\n",
       "      <td>0.084478</td>\n",
       "      <td>1.000000</td>\n",
       "      <td>0.182145</td>\n",
       "    </tr>\n",
       "    <tr>\n",
       "      <th>Treatment</th>\n",
       "      <td>0.048315</td>\n",
       "      <td>0.349819</td>\n",
       "      <td>0.345105</td>\n",
       "      <td>0.086880</td>\n",
       "      <td>0.182145</td>\n",
       "      <td>1.000000</td>\n",
       "    </tr>\n",
       "  </tbody>\n",
       "</table>\n",
       "</div>"
      ],
      "text/plain": [
       "                   Age   Marital  Depression   Anxiety  Panic Attack  \\\n",
       "Age           1.000000  0.105350   -0.070418 -0.091890      0.057072   \n",
       "Marital       0.105350  1.000000    0.595784  0.092606      0.275909   \n",
       "Depression   -0.070418  0.595784    1.000000  0.273764      0.246842   \n",
       "Anxiety      -0.091890  0.092606    0.273764  1.000000      0.084478   \n",
       "Panic Attack  0.057072  0.275909    0.246842  0.084478      1.000000   \n",
       "Treatment     0.048315  0.349819    0.345105  0.086880      0.182145   \n",
       "\n",
       "              Treatment  \n",
       "Age            0.048315  \n",
       "Marital        0.349819  \n",
       "Depression     0.345105  \n",
       "Anxiety        0.086880  \n",
       "Panic Attack   0.182145  \n",
       "Treatment      1.000000  "
      ]
     },
     "execution_count": 27,
     "metadata": {},
     "output_type": "execute_result"
    }
   ],
   "source": [
    "data.corr()"
   ]
  },
  {
   "cell_type": "code",
   "execution_count": 28,
   "id": "431aa1d2",
   "metadata": {},
   "outputs": [
    {
     "data": {
      "image/png": "[encoded data removed]",
      "text/plain": [
       "<Figure size 720x360 with 2 Axes>"
      ]
     },
     "metadata": {
      "needs_background": "light"
     },
     "output_type": "display_data"
    }
   ],
   "source": [
    "plt.figure(figsize=(10,5))\n",
    "sns.heatmap(data.corr(), annot=True)\n",
    "plt.show()"
   ]
  },
  {
   "cell_type": "markdown",
   "id": "de4b50bc",
   "metadata": {},
   "source": [
    "### Data Visualization"
   ]
  },
  {
   "cell_type": "code",
   "execution_count": 30,
   "id": "9b4ff97a",
   "metadata": {},
   "outputs": [
    {
     "data": {
      "text/plain": [
       "Female    75\n",
       "Male      26\n",
       "Name: Gender, dtype: int64"
      ]
     },
     "execution_count": 30,
     "metadata": {},
     "output_type": "execute_result"
    }
   ],
   "source": [
    "data['Gender'].value_counts()"
   ]
  },
  {
   "cell_type": "code",
   "execution_count": 37,
   "id": "8f37856d",
   "metadata": {
    "scrolled": true
   },
   "outputs": [
    {
     "data": {
      "image/png": "[encoded data removed]",
      "text/plain": [
       "<Figure size 720x360 with 1 Axes>"
      ]
     },
     "metadata": {},
     "output_type": "display_data"
    }
   ],
   "source": [
    "plt.figure(figsize=(10,5))\n",
    "plt.pie(x=data['Gender'].value_counts(),autopct='%1.1f%%', labels=['Females','Males'])\n",
    "plt.title('Gender Distribution')\n",
    "plt.show()"
   ]
  },
  {
   "cell_type": "markdown",
   "id": "badfaf87",
   "metadata": {},
   "source": [
    "### Depression by Gender"
   ]
  },
  {
   "cell_type": "code",
   "execution_count": 41,
   "id": "6e84b313",
   "metadata": {},
   "outputs": [
    {
     "data": {
      "image/png": "[encoded data removed]",
      "text/plain": [
       "<Figure size 432x288 with 1 Axes>"
      ]
     },
     "metadata": {
      "needs_background": "light"
     },
     "output_type": "display_data"
    }
   ],
   "source": [
    "sns.countplot(x=data['Depression'], hue=data['Gender'])\n",
    "plt.xlabel('Depression')\n",
    "plt.ylabel('Count')\n",
    "plt.title('Depression Count by Gender')\n",
    "plt.show()"
   ]
  },
  {
   "cell_type": "markdown",
   "id": "ee5b8225",
   "metadata": {},
   "source": [
    "### Anxitey by Gender"
   ]
  },
  {
   "cell_type": "code",
   "execution_count": 42,
   "id": "f1b1fa1b",
   "metadata": {},
   "outputs": [
    {
     "data": {
      "image/png": "[encoded data removed]",
      "text/plain": [
       "<Figure size 432x288 with 1 Axes>"
      ]
     },
     "metadata": {
      "needs_background": "light"
     },
     "output_type": "display_data"
    }
   ],
   "source": [
    "sns.countplot(x=data['Anxiety'], hue=data['Gender'])\n",
    "plt.xlabel('Anxitey')\n",
    "plt.ylabel('Count')\n",
    "plt.title('Anxiety Count by Gender')\n",
    "plt.show()"
   ]
  },
  {
   "cell_type": "markdown",
   "id": "7989718f",
   "metadata": {},
   "source": [
    "### Panic Attack by Gender"
   ]
  },
  {
   "cell_type": "code",
   "execution_count": 43,
   "id": "8614eeec",
   "metadata": {},
   "outputs": [
    {
     "data": {
      "image/png": "[encoded data removed]",
      "text/plain": [
       "<Figure size 432x288 with 1 Axes>"
      ]
     },
     "metadata": {
      "needs_background": "light"
     },
     "output_type": "display_data"
    }
   ],
   "source": [
    "sns.countplot(x=data['Panic Attack'], hue=data['Gender'])\n",
    "plt.xlabel('Panic Attack')\n",
    "plt.ylabel('Count')\n",
    "plt.title('Panic Attack Count by Gender')\n",
    "plt.show()"
   ]
  },
  {
   "cell_type": "raw",
   "id": "cb49adaf",
   "metadata": {},
   "source": [
    "Female ratio is higher in all the 3 categories "
   ]
  },
  {
   "cell_type": "markdown",
   "id": "6cde115f",
   "metadata": {},
   "source": [
    "### Age Count"
   ]
  },
  {
   "cell_type": "code",
   "execution_count": 44,
   "id": "412b04ad",
   "metadata": {},
   "outputs": [
    {
     "name": "stderr",
     "output_type": "stream",
     "text": [
      "C:\\Users\\Vicky\\AppData\\Local\\Programs\\Python\\Python310\\lib\\site-packages\\seaborn\\_decorators.py:36: FutureWarning: Pass the following variable as a keyword arg: x. From version 0.12, the only valid positional argument will be `data`, and passing other arguments without an explicit keyword will result in an error or misinterpretation.\n",
      "  warnings.warn(\n"
     ]
    },
    {
     "data": {
      "image/png": "[encoded data removed]",
      "text/plain": [
       "<Figure size 432x288 with 1 Axes>"
      ]
     },
     "metadata": {
      "needs_background": "light"
     },
     "output_type": "display_data"
    }
   ],
   "source": [
    "sns.countplot(data['Age'])\n",
    "plt.show()"
   ]
  },
  {
   "cell_type": "raw",
   "id": "0d1fa9a5",
   "metadata": {},
   "source": [
    "Most of the students are of 18 Age"
   ]
  },
  {
   "cell_type": "markdown",
   "id": "399576ed",
   "metadata": {},
   "source": [
    "### Year of Study"
   ]
  },
  {
   "cell_type": "code",
   "execution_count": 59,
   "id": "c70224c5",
   "metadata": {},
   "outputs": [
    {
     "data": {
      "text/plain": [
       "year 1    41\n",
       "Year 3    19\n",
       "Year 2    16\n",
       "year 2    10\n",
       "year 4     8\n",
       "year 3     5\n",
       "Year 1     2\n",
       "Name: Year Study, dtype: int64"
      ]
     },
     "execution_count": 59,
     "metadata": {},
     "output_type": "execute_result"
    }
   ],
   "source": [
    "data['Year Study'].value_counts()"
   ]
  },
  {
   "cell_type": "code",
   "execution_count": 60,
   "id": "08e50a49",
   "metadata": {},
   "outputs": [],
   "source": [
    "data['Year Study'].replace(['year 1','year 2','year 3','year 4'],['Year 1','Year 2','Year 3','Year 4'], inplace=True)"
   ]
  },
  {
   "cell_type": "code",
   "execution_count": 62,
   "id": "0da509b1",
   "metadata": {},
   "outputs": [
    {
     "data": {
      "text/plain": [
       "Year 1    43\n",
       "Year 2    26\n",
       "Year 3    24\n",
       "Year 4     8\n",
       "Name: Year Study, dtype: int64"
      ]
     },
     "execution_count": 62,
     "metadata": {},
     "output_type": "execute_result"
    }
   ],
   "source": [
    "data['Year Study'].value_counts()"
   ]
  },
  {
   "cell_type": "code",
   "execution_count": 68,
   "id": "79ef87b5",
   "metadata": {},
   "outputs": [
    {
     "data": {
      "image/png": "[encoded data removed]",
      "text/plain": [
       "<Figure size 720x360 with 1 Axes>"
      ]
     },
     "metadata": {
      "needs_background": "light"
     },
     "output_type": "display_data"
    }
   ],
   "source": [
    "plt.figure(figsize=(10,5))\n",
    "sns.countplot(x=data['Year Study'])\n",
    "plt.xlabel('Year of Study')\n",
    "plt.ylabel('Count')\n",
    "plt.title('Count of Year of Study')\n",
    "plt.show()"
   ]
  },
  {
   "cell_type": "raw",
   "id": "d6993f85",
   "metadata": {},
   "source": [
    "Maximum students are in 1st Year"
   ]
  },
  {
   "cell_type": "markdown",
   "id": "9d046fcf",
   "metadata": {},
   "source": [
    "### Year of study by Gender"
   ]
  },
  {
   "cell_type": "code",
   "execution_count": 72,
   "id": "0eaebb93",
   "metadata": {},
   "outputs": [
    {
     "data": {
      "image/png": "[encoded data removed]",
      "text/plain": [
       "<Figure size 720x360 with 1 Axes>"
      ]
     },
     "metadata": {
      "needs_background": "light"
     },
     "output_type": "display_data"
    }
   ],
   "source": [
    "plt.figure(figsize=(10,5))\n",
    "sns.countplot(x=data['Year Study'], hue=data['Gender'])\n",
    "plt.xlabel('Year of Study')\n",
    "plt.ylabel('Gender')\n",
    "plt.title('Gender Count by Year of Study')\n",
    "plt.show()"
   ]
  },
  {
   "cell_type": "markdown",
   "id": "448f828b",
   "metadata": {},
   "source": [
    "### CGPA Count"
   ]
  },
  {
   "cell_type": "code",
   "execution_count": 73,
   "id": "456bac5b",
   "metadata": {},
   "outputs": [
    {
     "data": {
      "text/plain": [
       "A    48\n",
       "B    43\n",
       "C     4\n",
       "E     4\n",
       "D     2\n",
       "Name: CGPA, dtype: int64"
      ]
     },
     "execution_count": 73,
     "metadata": {},
     "output_type": "execute_result"
    }
   ],
   "source": [
    "data['CGPA'].value_counts()"
   ]
  },
  {
   "cell_type": "code",
   "execution_count": 77,
   "id": "281235d1",
   "metadata": {},
   "outputs": [
    {
     "data": {
      "text/html": [
       "<div>\n",
       "<style scoped>\n",
       "    .dataframe tbody tr th:only-of-type {\n",
       "        vertical-align: middle;\n",
       "    }\n",
       "\n",
       "    .dataframe tbody tr th {\n",
       "        vertical-align: top;\n",
       "    }\n",
       "\n",
       "    .dataframe thead th {\n",
       "        text-align: right;\n",
       "    }\n",
       "</style>\n",
       "<table border=\"1\" class=\"dataframe\">\n",
       "  <thead>\n",
       "    <tr style=\"text-align: right;\">\n",
       "      <th></th>\n",
       "      <th>CGPA</th>\n",
       "      <th>0</th>\n",
       "    </tr>\n",
       "  </thead>\n",
       "  <tbody>\n",
       "    <tr>\n",
       "      <th>0</th>\n",
       "      <td>A</td>\n",
       "      <td>48</td>\n",
       "    </tr>\n",
       "    <tr>\n",
       "      <th>1</th>\n",
       "      <td>B</td>\n",
       "      <td>43</td>\n",
       "    </tr>\n",
       "    <tr>\n",
       "      <th>2</th>\n",
       "      <td>C</td>\n",
       "      <td>4</td>\n",
       "    </tr>\n",
       "    <tr>\n",
       "      <th>3</th>\n",
       "      <td>E</td>\n",
       "      <td>4</td>\n",
       "    </tr>\n",
       "    <tr>\n",
       "      <th>4</th>\n",
       "      <td>D</td>\n",
       "      <td>2</td>\n",
       "    </tr>\n",
       "  </tbody>\n",
       "</table>\n",
       "</div>"
      ],
      "text/plain": [
       "  CGPA   0\n",
       "0    A  48\n",
       "1    B  43\n",
       "2    C   4\n",
       "3    E   4\n",
       "4    D   2"
      ]
     },
     "execution_count": 77,
     "metadata": {},
     "output_type": "execute_result"
    }
   ],
   "source": [
    "data[['CGPA']].value_counts().reset_index()"
   ]
  },
  {
   "cell_type": "code",
   "execution_count": 79,
   "id": "8ff28a7d",
   "metadata": {},
   "outputs": [
    {
     "data": {
      "image/png": "[encoded data removed]",
      "text/plain": [
       "<Figure size 432x288 with 1 Axes>"
      ]
     },
     "metadata": {
      "needs_background": "light"
     },
     "output_type": "display_data"
    }
   ],
   "source": [
    "sns.countplot(x=data['CGPA'].sort_values())\n",
    "plt.xlabel('CGPA')\n",
    "plt.ylabel('Count')\n",
    "plt.title('Count of CGPA')\n",
    "plt.show()"
   ]
  },
  {
   "cell_type": "markdown",
   "id": "ab7ef00d",
   "metadata": {},
   "source": [
    "### Depression Count by CGPA"
   ]
  },
  {
   "cell_type": "code",
   "execution_count": 83,
   "id": "3f992227",
   "metadata": {},
   "outputs": [
    {
     "data": {
      "image/png": "[encoded data removed]",
      "text/plain": [
       "<Figure size 1080x360 with 1 Axes>"
      ]
     },
     "metadata": {
      "needs_background": "light"
     },
     "output_type": "display_data"
    }
   ],
   "source": [
    "plt.figure(figsize=(15,5))\n",
    "sns.countplot(x=data['Depression'], hue=data['CGPA'])\n",
    "plt.xlabel('Depression')\n",
    "plt.ylabel('Count')\n",
    "plt.title('Depression Count by CGPA')\n",
    "plt.show()"
   ]
  },
  {
   "cell_type": "markdown",
   "id": "79566000",
   "metadata": {},
   "source": [
    "### Anxitey Count by CGPA"
   ]
  },
  {
   "cell_type": "code",
   "execution_count": 84,
   "id": "20607695",
   "metadata": {},
   "outputs": [
    {
     "data": {
      "image/png": "[encoded data removed]",
      "text/plain": [
       "<Figure size 1080x360 with 1 Axes>"
      ]
     },
     "metadata": {
      "needs_background": "light"
     },
     "output_type": "display_data"
    }
   ],
   "source": [
    "plt.figure(figsize=(15,5))\n",
    "sns.countplot(x=data['Anxiety'], hue=data['CGPA'])\n",
    "plt.xlabel('Anxiety')\n",
    "plt.ylabel('Count')\n",
    "plt.title('Anxiety Count by CGPA')\n",
    "plt.show()"
   ]
  },
  {
   "cell_type": "markdown",
   "id": "1fe7a796",
   "metadata": {},
   "source": [
    "### Panic Attack Count by CGPA"
   ]
  },
  {
   "cell_type": "code",
   "execution_count": 85,
   "id": "e396e38e",
   "metadata": {},
   "outputs": [
    {
     "data": {
      "image/png": "[encoded data removed]",
      "text/plain": [
       "<Figure size 1080x360 with 1 Axes>"
      ]
     },
     "metadata": {
      "needs_background": "light"
     },
     "output_type": "display_data"
    }
   ],
   "source": [
    "plt.figure(figsize=(15,5))\n",
    "sns.countplot(x=data['Panic Attack'], hue=data['CGPA'])\n",
    "plt.xlabel('Panic Attack')\n",
    "plt.ylabel('Count')\n",
    "plt.title('Panic Attack Count by CGPA')\n",
    "plt.show()"
   ]
  },
  {
   "cell_type": "raw",
   "id": "926f004d",
   "metadata": {},
   "source": [
    "Depression: Grade B students have highest number of Depresssion\n",
    "Depression: Grade A students have highest number of Anxiety & Panic Attack"
   ]
  },
  {
   "cell_type": "markdown",
   "id": "ae870ec4",
   "metadata": {},
   "source": [
    "### Marital Status"
   ]
  },
  {
   "cell_type": "code",
   "execution_count": 87,
   "id": "5efb6279",
   "metadata": {},
   "outputs": [
    {
     "data": {
      "text/plain": [
       "0    85\n",
       "1    16\n",
       "Name: Marital, dtype: int64"
      ]
     },
     "execution_count": 87,
     "metadata": {},
     "output_type": "execute_result"
    }
   ],
   "source": [
    "data['Marital'].value_counts()"
   ]
  },
  {
   "cell_type": "code",
   "execution_count": 90,
   "id": "551b9586",
   "metadata": {},
   "outputs": [
    {
     "data": {
      "image/png": "[encoded data removed]",
      "text/plain": [
       "<Figure size 720x360 with 1 Axes>"
      ]
     },
     "metadata": {},
     "output_type": "display_data"
    }
   ],
   "source": [
    "plt.figure(figsize=(10,5))\n",
    "plt.pie(data['Marital'].value_counts(),autopct=\"%1.1f%%\",labels=['No','Yes'])\n",
    "plt.title(\"Marital Status\")\n",
    "plt.show()"
   ]
  },
  {
   "cell_type": "raw",
   "id": "ed80e01d",
   "metadata": {},
   "source": [
    "Out of total students 15.8% are married."
   ]
  },
  {
   "cell_type": "markdown",
   "id": "d3ecc8a2",
   "metadata": {},
   "source": [
    "### Analysis on student mental health"
   ]
  },
  {
   "cell_type": "code",
   "execution_count": 94,
   "id": "7c60ea14",
   "metadata": {
    "scrolled": true
   },
   "outputs": [
    {
     "data": {
      "image/png": "[encoded data removed]",
      "text/plain": [
       "<Figure size 720x360 with 1 Axes>"
      ]
     },
     "metadata": {},
     "output_type": "display_data"
    }
   ],
   "source": [
    "plt.figure(figsize=(10,5))\n",
    "plt.pie(data['Depression'].value_counts(),autopct=\"%1.1f%%\",labels=['No Depression','Depression'])\n",
    "plt.title(\"Depression Ratio\")\n",
    "plt.show()"
   ]
  },
  {
   "cell_type": "code",
   "execution_count": 95,
   "id": "b00e0df3",
   "metadata": {},
   "outputs": [
    {
     "data": {
      "image/png": "[encoded data removed]",
      "text/plain": [
       "<Figure size 720x360 with 1 Axes>"
      ]
     },
     "metadata": {},
     "output_type": "display_data"
    }
   ],
   "source": [
    "plt.figure(figsize=(10,5))\n",
    "plt.pie(data['Anxiety'].value_counts(),autopct=\"%1.1f%%\",labels=['No Anxiety','Anxiety'])\n",
    "plt.title(\"Anxitey Ratio\")\n",
    "plt.show()"
   ]
  },
  {
   "cell_type": "code",
   "execution_count": 96,
   "id": "7a6250f3",
   "metadata": {
    "scrolled": true
   },
   "outputs": [
    {
     "data": {
      "image/png": "[encoded data removed]",
      "text/plain": [
       "<Figure size 720x360 with 1 Axes>"
      ]
     },
     "metadata": {},
     "output_type": "display_data"
    }
   ],
   "source": [
    "plt.figure(figsize=(10,5))\n",
    "plt.pie(data['Panic Attack'].value_counts(),autopct=\"%1.1f%%\",labels=['No Panic Attack','Panic Attack'])\n",
    "plt.title(\"Panic Attack Ratio\")\n",
    "plt.show()"
   ]
  },
  {
   "cell_type": "markdown",
   "id": "6fc222b6",
   "metadata": {},
   "source": [
    "### Treatment by students"
   ]
  },
  {
   "cell_type": "raw",
   "id": "54c2378a",
   "metadata": {},
   "source": [
    "Students who did and didn't seek treatment"
   ]
  },
  {
   "cell_type": "code",
   "execution_count": 97,
   "id": "d38af811",
   "metadata": {},
   "outputs": [
    {
     "data": {
      "text/plain": [
       "0    95\n",
       "1     6\n",
       "Name: Treatment, dtype: int64"
      ]
     },
     "execution_count": 97,
     "metadata": {},
     "output_type": "execute_result"
    }
   ],
   "source": [
    "data['Treatment'].value_counts()"
   ]
  },
  {
   "cell_type": "code",
   "execution_count": 105,
   "id": "1ea06fbe",
   "metadata": {},
   "outputs": [
    {
     "data": {
      "image/png": "[encoded data removed]",
      "text/plain": [
       "<Figure size 720x360 with 1 Axes>"
      ]
     },
     "metadata": {},
     "output_type": "display_data"
    }
   ],
   "source": [
    "plt.figure(figsize=(10,5))\n",
    "plt.pie(data['Treatment'].value_counts(),labels=['Yes','No'],autopct=\"%1.1f%%\")\n",
    "plt.title('Did student seek treatment?')\n",
    "plt.show()"
   ]
  },
  {
   "cell_type": "raw",
   "id": "4e20e395",
   "metadata": {},
   "source": [
    "5.9% students did seek for treatment where as a huge percentage of majority didn't"
   ]
  }
 ],
 "metadata": {
  "kernelspec": {
   "display_name": "Python 3 (ipykernel)",
   "language": "python",
   "name": "python3"
  },
  "language_info": {
   "codemirror_mode": {
    "name": "ipython",
    "version": 3
   },
   "file_extension": ".py",
   "mimetype": "text/x-python",
   "name": "python",
   "nbconvert_exporter": "python",
   "pygments_lexer": "ipython3",
   "version": "3.10.0"
  }
 },
 "nbformat": 4,
 "nbformat_minor": 5
}
